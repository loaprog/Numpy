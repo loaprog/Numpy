{
  "nbformat": 4,
  "nbformat_minor": 0,
  "metadata": {
    "colab": {
      "provenance": []
    },
    "kernelspec": {
      "name": "python3",
      "display_name": "Python 3"
    },
    "language_info": {
      "name": "python"
    }
  },
  "cells": [
    {
      "cell_type": "code",
      "execution_count": 1,
      "metadata": {
        "id": "s-MgXM1lcsTa"
      },
      "outputs": [],
      "source": [
        "import numpy as np"
      ]
    },
    {
      "cell_type": "markdown",
      "source": [
        "## tipos de array:\n",
        "\n",
        "- Possui apenas uma dimensão. Será comumente chamado de vetor ou vector;\n",
        "- 2 dimensões. Será comumente chamado de matriz ou matrix;\n",
        "- Possui 3 ou mais dimensões. Será comumente chamado de tensor."
      ],
      "metadata": {
        "id": "WOIrwXlldJXG"
      }
    },
    {
      "cell_type": "markdown",
      "source": [
        "## Criando uma Array"
      ],
      "metadata": {
        "id": "QPlZQtF-dqYm"
      }
    },
    {
      "cell_type": "code",
      "source": [
        "## array 1 dimensão - vetor\n",
        "a = np.array([1,2,3,4,5,6])\n",
        "\n",
        "# lista\n",
        "list = [1,2,3,4,5]\n",
        "\n",
        "print(type(a))\n",
        "print(type(list))"
      ],
      "metadata": {
        "colab": {
          "base_uri": "https://localhost:8080/"
        },
        "id": "03sAABt9dIES",
        "outputId": "9c296583-8e67-4a1a-c418-8c75243e2c69"
      },
      "execution_count": 2,
      "outputs": [
        {
          "output_type": "stream",
          "name": "stdout",
          "text": [
            "<class 'numpy.ndarray'>\n",
            "<class 'list'>\n"
          ]
        }
      ]
    },
    {
      "cell_type": "code",
      "source": [
        "## array 2 dimensão - matrix\n",
        "b = np.array([[1,2,3,4,5,6], [1,2,3,4,5,6]])\n",
        "\n",
        "print (b)"
      ],
      "metadata": {
        "colab": {
          "base_uri": "https://localhost:8080/"
        },
        "id": "4GGGcM1Zcws_",
        "outputId": "5e8c5335-646a-4d1a-d55c-66ccde1cc642"
      },
      "execution_count": 3,
      "outputs": [
        {
          "output_type": "stream",
          "name": "stdout",
          "text": [
            "[[1 2 3 4 5 6]\n",
            " [1 2 3 4 5 6]]\n"
          ]
        }
      ]
    },
    {
      "cell_type": "code",
      "source": [
        "## array 3 dimensão - tensor\n",
        "c = np.array([[1,2,3,4,5,6], [6,5,4,3,2,1], [1,2,3,4,5,6]],)\n",
        "\n",
        "print (c)"
      ],
      "metadata": {
        "colab": {
          "base_uri": "https://localhost:8080/"
        },
        "id": "2KbRn4mMcw1e",
        "outputId": "353ee16f-604a-4316-f961-5ab230e68606"
      },
      "execution_count": 4,
      "outputs": [
        {
          "output_type": "stream",
          "name": "stdout",
          "text": [
            "[[1 2 3 4 5 6]\n",
            " [6 5 4 3 2 1]\n",
            " [1 2 3 4 5 6]]\n"
          ]
        }
      ]
    },
    {
      "cell_type": "code",
      "source": [
        "## Podemos criar uma matrix de valor zero\n",
        "zero_array = np.zeros(100)\n",
        "\n",
        "print (zero_array)"
      ],
      "metadata": {
        "colab": {
          "base_uri": "https://localhost:8080/"
        },
        "id": "Im6hITBpgwG2",
        "outputId": "1a2262ce-7043-41ef-9e47-02180c616b6d"
      },
      "execution_count": 5,
      "outputs": [
        {
          "output_type": "stream",
          "name": "stdout",
          "text": [
            "[0. 0. 0. 0. 0. 0. 0. 0. 0. 0. 0. 0. 0. 0. 0. 0. 0. 0. 0. 0. 0. 0. 0. 0.\n",
            " 0. 0. 0. 0. 0. 0. 0. 0. 0. 0. 0. 0. 0. 0. 0. 0. 0. 0. 0. 0. 0. 0. 0. 0.\n",
            " 0. 0. 0. 0. 0. 0. 0. 0. 0. 0. 0. 0. 0. 0. 0. 0. 0. 0. 0. 0. 0. 0. 0. 0.\n",
            " 0. 0. 0. 0. 0. 0. 0. 0. 0. 0. 0. 0. 0. 0. 0. 0. 0. 0. 0. 0. 0. 0. 0. 0.\n",
            " 0. 0. 0. 0.]\n"
          ]
        }
      ]
    },
    {
      "cell_type": "code",
      "source": [
        "## Podemos organizar essa matrix com a estrutura que queremos\n",
        "shape = [5,3,6]\n",
        "zero_array = np.zeros(shape)\n",
        "\n",
        "print (zero_array)"
      ],
      "metadata": {
        "colab": {
          "base_uri": "https://localhost:8080/"
        },
        "id": "XIQcJH8JgwjW",
        "outputId": "7001aa18-f90e-47b7-98f0-84b50f30d11c"
      },
      "execution_count": 6,
      "outputs": [
        {
          "output_type": "stream",
          "name": "stdout",
          "text": [
            "[[[0. 0. 0. 0. 0. 0.]\n",
            "  [0. 0. 0. 0. 0. 0.]\n",
            "  [0. 0. 0. 0. 0. 0.]]\n",
            "\n",
            " [[0. 0. 0. 0. 0. 0.]\n",
            "  [0. 0. 0. 0. 0. 0.]\n",
            "  [0. 0. 0. 0. 0. 0.]]\n",
            "\n",
            " [[0. 0. 0. 0. 0. 0.]\n",
            "  [0. 0. 0. 0. 0. 0.]\n",
            "  [0. 0. 0. 0. 0. 0.]]\n",
            "\n",
            " [[0. 0. 0. 0. 0. 0.]\n",
            "  [0. 0. 0. 0. 0. 0.]\n",
            "  [0. 0. 0. 0. 0. 0.]]\n",
            "\n",
            " [[0. 0. 0. 0. 0. 0.]\n",
            "  [0. 0. 0. 0. 0. 0.]\n",
            "  [0. 0. 0. 0. 0. 0.]]]\n"
          ]
        }
      ]
    },
    {
      "cell_type": "code",
      "source": [
        "## Podemos fazer essa mesma estrutura com valor positivo usando o np.ones em vez de np.zeros\n",
        "shape = [5,3,6]\n",
        "one_array = np.ones(shape)\n",
        "\n",
        "print (one_array)"
      ],
      "metadata": {
        "colab": {
          "base_uri": "https://localhost:8080/"
        },
        "id": "7h3cArjMgwrW",
        "outputId": "5b8633fd-248c-45ab-f014-7b4dd01be345"
      },
      "execution_count": 7,
      "outputs": [
        {
          "output_type": "stream",
          "name": "stdout",
          "text": [
            "[[[1. 1. 1. 1. 1. 1.]\n",
            "  [1. 1. 1. 1. 1. 1.]\n",
            "  [1. 1. 1. 1. 1. 1.]]\n",
            "\n",
            " [[1. 1. 1. 1. 1. 1.]\n",
            "  [1. 1. 1. 1. 1. 1.]\n",
            "  [1. 1. 1. 1. 1. 1.]]\n",
            "\n",
            " [[1. 1. 1. 1. 1. 1.]\n",
            "  [1. 1. 1. 1. 1. 1.]\n",
            "  [1. 1. 1. 1. 1. 1.]]\n",
            "\n",
            " [[1. 1. 1. 1. 1. 1.]\n",
            "  [1. 1. 1. 1. 1. 1.]\n",
            "  [1. 1. 1. 1. 1. 1.]]\n",
            "\n",
            " [[1. 1. 1. 1. 1. 1.]\n",
            "  [1. 1. 1. 1. 1. 1.]\n",
            "  [1. 1. 1. 1. 1. 1.]]]\n"
          ]
        }
      ]
    },
    {
      "cell_type": "code",
      "source": [
        "## valores aleatórios\n",
        "vazio = np.empty(4)\n",
        "\n",
        "print (vazio)"
      ],
      "metadata": {
        "colab": {
          "base_uri": "https://localhost:8080/"
        },
        "id": "M7Woi7Gxgwx2",
        "outputId": "0842d590-df31-4793-cc78-d235cd986613"
      },
      "execution_count": 8,
      "outputs": [
        {
          "output_type": "stream",
          "name": "stdout",
          "text": [
            "[4.88708958e-310 0.00000000e+000 0.00000000e+000 0.00000000e+000]\n"
          ]
        }
      ]
    },
    {
      "cell_type": "code",
      "source": [
        "## Criar array em uma sequência\n",
        "arange = np.arange(10)\n",
        "\n",
        "print(arange)\n",
        "\n",
        "## Podemos modificar da forma que quisermos\n",
        "\n",
        "## intervalo inicial, intervalo final, quanto em quanto)\n",
        "arange_10 = np.arange(10, 50, 10)\n",
        "\n",
        "print(arange_10)"
      ],
      "metadata": {
        "colab": {
          "base_uri": "https://localhost:8080/"
        },
        "id": "FJrIk8gQlVJm",
        "outputId": "3ad86c6c-2008-4b96-d060-fd6e7c77a677"
      },
      "execution_count": 9,
      "outputs": [
        {
          "output_type": "stream",
          "name": "stdout",
          "text": [
            "[0 1 2 3 4 5 6 7 8 9]\n",
            "[10 20 30 40]\n"
          ]
        }
      ]
    },
    {
      "cell_type": "code",
      "source": [
        "## criar uma sequencia uniforme\n",
        "array_linear = np.linspace(1,10,5)\n",
        "\n",
        "print (array_linear)"
      ],
      "metadata": {
        "colab": {
          "base_uri": "https://localhost:8080/"
        },
        "id": "X0rsp0M0kQCq",
        "outputId": "e73fcaf5-b006-493e-e53d-b195718d3267"
      },
      "execution_count": 10,
      "outputs": [
        {
          "output_type": "stream",
          "name": "stdout",
          "text": [
            "[ 1.    3.25  5.5   7.75 10.  ]\n"
          ]
        }
      ]
    },
    {
      "cell_type": "code",
      "source": [
        "## informações de um numpy\n",
        "shape = [5,3,6]\n",
        "zero_array = np.zeros(shape)\n",
        "\n",
        "print (zero_array.shape) ## estrutura\n",
        "print (zero_array.size) ## total de dados\n",
        "print (zero_array.ndim) # numero de dimensões \"por exemplo deu 3, sendo um tensor\""
      ],
      "metadata": {
        "colab": {
          "base_uri": "https://localhost:8080/"
        },
        "id": "2Js-40JLkQIa",
        "outputId": "bebf240f-b25f-4c11-d2d1-4f907a933ef9"
      },
      "execution_count": 11,
      "outputs": [
        {
          "output_type": "stream",
          "name": "stdout",
          "text": [
            "(5, 3, 6)\n",
            "90\n",
            "3\n"
          ]
        }
      ]
    },
    {
      "cell_type": "code",
      "source": [
        "## Podemos converter um tensor para vetor\n",
        "print(c.flatten())\n"
      ],
      "metadata": {
        "colab": {
          "base_uri": "https://localhost:8080/"
        },
        "id": "TfGzFSWBcw5_",
        "outputId": "a91d3262-83b8-45cb-9615-09fb17b17d11"
      },
      "execution_count": 12,
      "outputs": [
        {
          "output_type": "stream",
          "name": "stdout",
          "text": [
            "[1 2 3 4 5 6 6 5 4 3 2 1 1 2 3 4 5 6]\n"
          ]
        }
      ]
    },
    {
      "cell_type": "code",
      "source": [
        "## Podemos comparar dois arrays e verificar se eles são iguais\n",
        "a = np.array([1,2,3,4,5,6])\n",
        "b = np.array([1,2,3,4,5,6])\n",
        "\n",
        "semelhanca = np.array_equal(a, b)\n",
        "\n",
        "if semelhanca == True:\n",
        "    print(\"Há semelhança entre A e B\")\n",
        "else:\n",
        "    print(\"Não existe semelhança entre A e B\")"
      ],
      "metadata": {
        "colab": {
          "base_uri": "https://localhost:8080/"
        },
        "id": "6xbHy85cQwdT",
        "outputId": "eb7909f9-ed2a-40d5-cd53-e4d8e6688e29"
      },
      "execution_count": 24,
      "outputs": [
        {
          "output_type": "stream",
          "name": "stdout",
          "text": [
            "Há semelhança entre A e B\n"
          ]
        }
      ]
    }
  ]
}